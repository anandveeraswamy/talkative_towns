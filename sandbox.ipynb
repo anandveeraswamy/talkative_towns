{
 "cells": [
  {
   "cell_type": "code",
   "execution_count": 1,
   "metadata": {},
   "outputs": [],
   "source": [
    "from datetime import datetime\n",
    "\n",
    "from flask import Flask, flash, render_template, redirect, request, url_for\n",
    "from flask_login import (\n",
    "    LoginManager,\n",
    "    login_user,\n",
    "    logout_user,\n",
    "    login_required,\n",
    "    current_user,\n",
    ")\n",
    "\n",
    "from models import User, Business, Event, Post, Friendship, Attendance, db"
   ]
  },
  {
   "cell_type": "code",
   "execution_count": 2,
   "metadata": {},
   "outputs": [],
   "source": [
    "app = Flask(__name__)\n",
    "app.config.from_object('config')  # Load configuration from config.py\n",
    "\n",
    "with app.app_context():\n",
    "    db.init_app(app)\n",
    "    db.create_all()"
   ]
  },
  {
   "cell_type": "code",
   "execution_count": 3,
   "metadata": {},
   "outputs": [],
   "source": [
    "# Create the User Yoni\n",
    "with app.test_request_context():\n",
    "    user = User(name=\"Yoni\")\n",
    "    db.session.add(user)\n",
    "    db.session.commit()"
   ]
  },
  {
   "cell_type": "code",
   "execution_count": 4,
   "metadata": {},
   "outputs": [],
   "source": [
    "# Create our business\n",
    "with app.test_request_context():\n",
    "    business = Business(name=\"Pizzazza\", business_type=\"Restaurant\", address=\"123 Main St\")\n",
    "    db.session.add(business)\n",
    "    db.session.commit()"
   ]
  },
  {
   "cell_type": "code",
   "execution_count": 5,
   "metadata": {},
   "outputs": [],
   "source": [
    "# Set Yoni as the manager\n",
    "with app.test_request_context():\n",
    "    pizzazza = Business.query.filter_by(name=\"Pizzazza\").first()\n",
    "    yoni = User.query.filter_by(name=\"Yoni\").first()\n",
    "    yoni.managed_business = pizzazza\n",
    "    db.session.commit()"
   ]
  },
  {
   "cell_type": "code",
   "execution_count": 6,
   "metadata": {},
   "outputs": [],
   "source": [
    "# Create the user Alice, and make her a friend of Yoni\n",
    "with app.test_request_context():\n",
    "    alice = User(name=\"Alice\")\n",
    "    db.session.add(alice)\n",
    "    yoni = User.query.filter_by(name=\"Yoni\").first()\n",
    "    friendship = Friendship(originator=yoni, target=alice)\n",
    "    yoni.friendships.append(friendship)  # This is one way of adding the friendship to the db\n",
    "    db.session.commit()"
   ]
  },
  {
   "cell_type": "code",
   "execution_count": 7,
   "metadata": {},
   "outputs": [],
   "source": [
    "with app.test_request_context():\n",
    "    bob = User(name=\"Bob\")\n",
    "    db.session.add(bob)\n",
    "    yoni = User.query.filter_by(name=\"Yoni\").first()\n",
    "    friendship = Friendship(originator=bob, target=yoni)\n",
    "    db.session.add(friendship)  # This is another (probably clearer) way of adding the friendship to the db\n",
    "    db.session.commit()"
   ]
  },
  {
   "cell_type": "code",
   "execution_count": 8,
   "metadata": {},
   "outputs": [
    {
     "name": "stdout",
     "output_type": "stream",
     "text": [
      "<User(name='Yoni')>\n",
      "yoni.user_id=1\n",
      "yoni.name='Yoni'\n",
      "yoni.managed_business_id=1\n",
      "yoni.managed_business.name='Pizzazza'\n",
      "yoni.friendships=[<Friendship 1, 2>]\n",
      "Yoni's friends are: Alice\n",
      "yoni.target_friendships=[<Friendship 3, 1>]\n",
      "Yoni is a friend of: Bob\n",
      "yoni.attended_events=[]\n"
     ]
    }
   ],
   "source": [
    "# Show everything about the user Yoni\n",
    "with app.test_request_context():\n",
    "    yoni = User.query.filter_by(name=\"Yoni\").first()\n",
    "    print(f\"{yoni}\")\n",
    "    print(f\"{yoni.user_id=}\")\n",
    "    print(f\"{yoni.name=}\")\n",
    "    print(f\"{yoni.managed_business_id=}\")\n",
    "    print(f\"{yoni.managed_business.name=}\")\n",
    "    print(f\"{yoni.friendships=}\")\n",
    "    print(f\"Yoni's friends are: {','.join([f.target.name for f in yoni.friendships])}\")\n",
    "    print(f\"{yoni.target_friendships=}\")\n",
    "    print(f\"Yoni is a friend of: {','.join([f.originator.name for f in yoni.target_friendships])}\")\n",
    "    print(f\"{yoni.attended_events=}\")\n"
   ]
  },
  {
   "cell_type": "code",
   "execution_count": 9,
   "metadata": {},
   "outputs": [],
   "source": [
    "# Create an event at Pizzazza\n",
    "with app.test_request_context():\n",
    "    pizzazza = Business.query.filter_by(name=\"Pizzazza\").first()\n",
    "    event = Event(name=\"Halloween Party\", business=pizzazza, event_type=\"Party\",\n",
    "                start_time=datetime(2023, 10, 31, 20),\n",
    "                end_time=datetime(2023, 10, 31, 23))\n",
    "    db.session.add(event)\n",
    "    db.session.commit()"
   ]
  },
  {
   "cell_type": "code",
   "execution_count": 10,
   "metadata": {},
   "outputs": [],
   "source": [
    "# Have Yoni attend the event\n",
    "with app.test_request_context():\n",
    "    yoni = User.query.filter_by(name=\"Yoni\").first()\n",
    "    party = Event.query.filter_by(name=\"Halloween Party\").first()\n",
    "    # party.attendees.append(yoni) # This is one way of adding the attendance to the db\n",
    "    yoni.attended_events.append(party)  # This is another (probably clearer) way of adding the attendance to the db\n",
    "    db.session.commit()\n"
   ]
  },
  {
   "cell_type": "code",
   "execution_count": 11,
   "metadata": {},
   "outputs": [
    {
     "name": "stdout",
     "output_type": "stream",
     "text": [
      "yoni.user_id=1\n",
      "yoni.attended_events=[<Event 1>]\n",
      "Yoni attended the following event:\n",
      "event.name='Halloween Party'\n",
      "event.business.name='Pizzazza'\n",
      "event.business.address='123 Main St'\n",
      "event.start_time=datetime.datetime(2023, 10, 31, 20, 0)\n",
      "event.end_time=datetime.datetime(2023, 10, 31, 23, 0)\n"
     ]
    }
   ],
   "source": [
    "# Show everything about the user Yoni\n",
    "with app.test_request_context():\n",
    "    yoni = User.query.filter_by(name=\"Yoni\").first()\n",
    "    print(f\"{yoni.user_id=}\")\n",
    "    print(f\"{yoni.attended_events=}\")\n",
    "    for event in yoni.attended_events:\n",
    "        print(f\"Yoni attended the following event:\")\n",
    "        print(f\"{event.name=}\")\n",
    "        print(f\"{event.business.name=}\")\n",
    "        print(f\"{event.business.address=}\")\n",
    "        print(f\"{event.start_time=}\")\n",
    "        print(f\"{event.end_time=}\")\n"
   ]
  },
  {
   "cell_type": "code",
   "execution_count": 12,
   "metadata": {},
   "outputs": [
    {
     "name": "stdout",
     "output_type": "stream",
     "text": [
      "Our users are: Yoni, Alice, Bob\n"
     ]
    }
   ],
   "source": [
    "# Show all users\n",
    "with app.test_request_context():\n",
    "    users = User.query.all()\n",
    "    print(f\"Our users are: {', '.join(u.name for u in users)}\")"
   ]
  },
  {
   "cell_type": "code",
   "execution_count": 13,
   "metadata": {},
   "outputs": [
    {
     "name": "stdout",
     "output_type": "stream",
     "text": [
      "Our users are:\n",
      "-  Yoni\n",
      "-  Alice\n",
      "-  Bob\n"
     ]
    }
   ],
   "source": [
    "# Alternatively, show all users by iterating over the query cursor - note no .all()\n",
    "with app.test_request_context():\n",
    "    print(\"Our users are:\")\n",
    "    for u in User.query:\n",
    "        print(f\"-  {u.name}\")"
   ]
  }
 ],
 "metadata": {
  "kernelspec": {
   "display_name": "Python 3",
   "language": "python",
   "name": "python3"
  },
  "language_info": {
   "codemirror_mode": {
    "name": "ipython",
    "version": 3
   },
   "file_extension": ".py",
   "mimetype": "text/x-python",
   "name": "python",
   "nbconvert_exporter": "python",
   "pygments_lexer": "ipython3",
   "version": "3.9.12"
  }
 },
 "nbformat": 4,
 "nbformat_minor": 2
}
